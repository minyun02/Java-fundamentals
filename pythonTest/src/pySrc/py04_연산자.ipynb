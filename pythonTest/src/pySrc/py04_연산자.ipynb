{
 "cells": [
  {
   "cell_type": "markdown",
   "metadata": {},
   "source": [
    "### 연산자\n",
    "- 산술연산자 : +, -, *, /(실수), //(몫), %(나머지), **(거듭제곱)\n",
    "- 관계연산자 : <, >, <=, >=, !=, ==\n",
    "- 논리연산자 : and, or, not"
   ]
  },
  {
   "cell_type": "code",
   "execution_count": 1,
   "metadata": {},
   "outputs": [
    {
     "name": "stdout",
     "output_type": "stream",
     "text": [
      "c= 33.333333333333336\n",
      "d= 33\n",
      "e= 1\n",
      "f= 1000000\n"
     ]
    }
   ],
   "source": [
    "a = 100\n",
    "b = 3\n",
    "c = a/b\n",
    "d = a//b\n",
    "e = a%b\n",
    "f = a**3\n",
    "print('c=', c)\n",
    "print('d=', d)\n",
    "print('e=', e)\n",
    "print('f=', f)"
   ]
  },
  {
   "cell_type": "code",
   "execution_count": 3,
   "metadata": {},
   "outputs": [
    {
     "data": {
      "text/plain": [
       "(16, 2)"
      ]
     },
     "execution_count": 3,
     "metadata": {},
     "output_type": "execute_result"
    }
   ],
   "source": [
    "# 몫과 나머지를 구하여 주는 함수\n",
    "divmod(50, 3) # tuple로 결과를 리턴해준다 (몫, 나머지)"
   ]
  },
  {
   "cell_type": "code",
   "execution_count": 11,
   "metadata": {},
   "outputs": [
    {
     "name": "stdin",
     "output_type": "stream",
     "text": [
      "정수로 입력하세요.. 1\n",
      "두번째 정수로 입력하세요.. 3\n"
     ]
    },
    {
     "name": "stdout",
     "output_type": "stream",
     "text": [
      "1 + 3 = 4\n"
     ]
    }
   ],
   "source": [
    "# 실행중 데이터 입력받기\n",
    "num1 = int(input('정수로 입력하세요..')) # 문자로 입력됨\n",
    "num2 = int(input('두번째 정수로 입력하세요..'))\n",
    "print(num1, '+', num2,'=',(num1+num2))"
   ]
  },
  {
   "cell_type": "code",
   "execution_count": null,
   "metadata": {},
   "outputs": [],
   "source": []
  },
  {
   "cell_type": "code",
   "execution_count": null,
   "metadata": {},
   "outputs": [],
   "source": []
  },
  {
   "cell_type": "code",
   "execution_count": null,
   "metadata": {},
   "outputs": [],
   "source": []
  },
  {
   "cell_type": "code",
   "execution_count": null,
   "metadata": {},
   "outputs": [],
   "source": []
  },
  {
   "cell_type": "code",
   "execution_count": null,
   "metadata": {},
   "outputs": [],
   "source": []
  }
 ],
 "metadata": {
  "kernelspec": {
   "display_name": "Python 3",
   "language": "python",
   "name": "python3"
  },
  "language_info": {
   "codemirror_mode": {
    "name": "ipython",
    "version": 3
   },
   "file_extension": ".py",
   "mimetype": "text/x-python",
   "name": "python",
   "nbconvert_exporter": "python",
   "pygments_lexer": "ipython3",
   "version": "3.8.5"
  }
 },
 "nbformat": 4,
 "nbformat_minor": 4
}
