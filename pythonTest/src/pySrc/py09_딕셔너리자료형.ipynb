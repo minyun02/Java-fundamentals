{
 "cells": [
  {
   "cell_type": "markdown",
   "metadata": {},
   "source": [
    "## 딕셔너리 자료형\n",
    "- 리스트와 튜플처럼 순서가 있는게아니라 key,value 가 존재한다\n",
    "-{key : value, key:value, key:vlaue}"
   ]
  },
  {
   "cell_type": "code",
   "execution_count": 2,
   "metadata": {},
   "outputs": [
    {
     "name": "stdout",
     "output_type": "stream",
     "text": [
      "{1: 'hi'}\n",
      "{'one': [1, 2, 3, 4, 5]}\n",
      "{'userid': 'hong', 'userpwd': '1234'}\n"
     ]
    }
   ],
   "source": [
    "dic1 = {1:'hi'}\n",
    "dic2 = {'one':[1,2,3,4,5]}\n",
    "dic3 = {'userid':'hong','userpwd':'1234','tel':'010-2222-5654'}\n",
    "print(dic1)\n",
    "print(dic2)\n",
    "print(dic3)"
   ]
  },
  {
   "cell_type": "code",
   "execution_count": null,
   "metadata": {},
   "outputs": [],
   "source": [
    "## 딕셔너리에 데이터추가하기"
   ]
  },
  {
   "cell_type": "code",
   "execution_count": 3,
   "metadata": {},
   "outputs": [
    {
     "name": "stdout",
     "output_type": "stream",
     "text": [
      "{'one': [1, 2, 3, 4, 5], 'two': [10, 20, 30]}\n"
     ]
    }
   ],
   "source": [
    "#  key        value\n",
    "dic2['two'] = [10,20,30]\n",
    "print(dic2)"
   ]
  },
  {
   "cell_type": "code",
   "execution_count": 4,
   "metadata": {},
   "outputs": [
    {
     "name": "stdout",
     "output_type": "stream",
     "text": [
      "{'two': [10, 20, 30]}\n"
     ]
    }
   ],
   "source": [
    "# 딕셔너리 데이터 지우기\n",
    "#         key\n",
    "del dic2['one']\n",
    "print(dic2)"
   ]
  },
  {
   "cell_type": "code",
   "execution_count": 5,
   "metadata": {},
   "outputs": [
    {
     "name": "stdout",
     "output_type": "stream",
     "text": [
      "{1: 'one', 2: 'two', 3: 'three'}\n"
     ]
    }
   ],
   "source": [
    "# 키값이 중복되는 경우\n",
    "dic4={1:'one',2:'two',3:'three'}\n",
    "print(dic4)"
   ]
  },
  {
   "cell_type": "code",
   "execution_count": 6,
   "metadata": {},
   "outputs": [
    {
     "name": "stdout",
     "output_type": "stream",
     "text": [
      "{1: 'one', 2: 'AAAAAA', 3: 'three'}\n"
     ]
    }
   ],
   "source": [
    "dic4[2] ='AAAAAA'\n",
    "print(dic4)"
   ]
  },
  {
   "cell_type": "code",
   "execution_count": null,
   "metadata": {},
   "outputs": [],
   "source": [
    "#key 목록을 구하는 함수"
   ]
  },
  {
   "cell_type": "code",
   "execution_count": 12,
   "metadata": {},
   "outputs": [],
   "source": [
    "dic3 ={'userid':'hong','userpwd':'1234','tel':'010-2222-5654'}"
   ]
  },
  {
   "cell_type": "code",
   "execution_count": 7,
   "metadata": {},
   "outputs": [
    {
     "name": "stdout",
     "output_type": "stream",
     "text": [
      "dict_keys(['userid', 'userpwd'])\n"
     ]
    }
   ],
   "source": [
    "key_list= dic3.keys() #key를 모아서 dict_keys 함수 객체로 돌려준다.\n",
    "print(key_list)"
   ]
  },
  {
   "cell_type": "code",
   "execution_count": null,
   "metadata": {},
   "outputs": [],
   "source": [
    "# 반복문 : for"
   ]
  },
  {
   "cell_type": "code",
   "execution_count": 13,
   "metadata": {},
   "outputs": [
    {
     "name": "stdout",
     "output_type": "stream",
     "text": [
      "key=userid:hong\n",
      "----------\n",
      "key=userpwd:1234\n",
      "----------\n",
      "key=tel:010-2222-5654\n",
      "----------\n",
      "반복문완료\n"
     ]
    }
   ],
   "source": [
    "for keyname in dic3.keys():\n",
    "    print('key='+keyname+\":\" +dic3[keyname])\n",
    "    print('-'*10)\n",
    "print('반복문완료')    "
   ]
  },
  {
   "cell_type": "code",
   "execution_count": 14,
   "metadata": {},
   "outputs": [
    {
     "name": "stdout",
     "output_type": "stream",
     "text": [
      "dict_values(['hong', '1234', '010-2222-5654'])\n"
     ]
    }
   ],
   "source": [
    "# value 목록을 구하는 함수\n",
    "value_list=dic3.values();\n",
    "print(value_list)"
   ]
  },
  {
   "cell_type": "code",
   "execution_count": 17,
   "metadata": {},
   "outputs": [
    {
     "name": "stdout",
     "output_type": "stream",
     "text": [
      "hong\n",
      "1234\n",
      "010-2222-5654\n"
     ]
    }
   ],
   "source": [
    "for value in value_list:\n",
    "     print(value)"
   ]
  },
  {
   "cell_type": "code",
   "execution_count": 21,
   "metadata": {},
   "outputs": [
    {
     "name": "stdout",
     "output_type": "stream",
     "text": [
      "['hong', '1234', '010-2222-5654']\n"
     ]
    }
   ],
   "source": [
    "value_list2 = list(dic3.values())\n",
    "print(value_list2)"
   ]
  },
  {
   "cell_type": "code",
   "execution_count": 20,
   "metadata": {},
   "outputs": [
    {
     "name": "stdout",
     "output_type": "stream",
     "text": [
      "hong\n",
      "1234\n",
      "010-2222-5654\n"
     ]
    }
   ],
   "source": [
    "for value in value_list2:\n",
    "    print(value)"
   ]
  },
  {
   "cell_type": "code",
   "execution_count": null,
   "metadata": {},
   "outputs": [],
   "source": [
    "# 딕셔너리 값을 구하는데 값이 없을 경우 기본값으로 설정하는 방법\n",
    "dic3 ={'userid':'hong','userpwd':'1234','tel':'010-2222-5654'}"
   ]
  },
  {
   "cell_type": "code",
   "execution_count": 22,
   "metadata": {},
   "outputs": [
    {
     "ename": "KeyError",
     "evalue": "'addr'",
     "output_type": "error",
     "traceback": [
      "\u001b[1;31m---------------------------------------------------------------------------\u001b[0m",
      "\u001b[1;31mKeyError\u001b[0m                                  Traceback (most recent call last)",
      "\u001b[1;32m<ipython-input-22-b0a0c99ab8dd>\u001b[0m in \u001b[0;36m<module>\u001b[1;34m\u001b[0m\n\u001b[1;32m----> 1\u001b[1;33m \u001b[0mprint\u001b[0m\u001b[1;33m(\u001b[0m\u001b[0mdic3\u001b[0m\u001b[1;33m[\u001b[0m\u001b[1;34m'addr'\u001b[0m\u001b[1;33m]\u001b[0m\u001b[1;33m)\u001b[0m\u001b[1;33m\u001b[0m\u001b[1;33m\u001b[0m\u001b[0m\n\u001b[0m",
      "\u001b[1;31mKeyError\u001b[0m: 'addr'"
     ]
    }
   ],
   "source": [
    "print(dic3['addr'])"
   ]
  },
  {
   "cell_type": "code",
   "execution_count": 24,
   "metadata": {},
   "outputs": [
    {
     "name": "stdout",
     "output_type": "stream",
     "text": [
      "주소가없습니다.\n"
     ]
    }
   ],
   "source": [
    "#            key        키가없을떄보이는 데이터\n",
    "print(dic3.get('addr','주소가없습니다.'))"
   ]
  },
  {
   "cell_type": "code",
   "execution_count": 25,
   "metadata": {},
   "outputs": [
    {
     "name": "stdout",
     "output_type": "stream",
     "text": [
      "hong\n"
     ]
    }
   ],
   "source": [
    "print(dic3.get('userid','아이디가 없어요.'))"
   ]
  },
  {
   "cell_type": "code",
   "execution_count": null,
   "metadata": {},
   "outputs": [],
   "source": [
    "## 딕셔너리 만들기\n",
    "항목      값\n",
    "name     홍길동\n",
    "birth    970202\n",
    "age      25\n",
    "\n",
    "다음항목을 딕셔너리로 만들고\n",
    "1.key 목록과 value 목록을 리스트로 출력하라\n",
    "2. 이름은 홍길동이고, 생년월일은 97년 02월 02일이며, 나이는 25세이다. 로 출력하라\n",
    "\n"
   ]
  },
  {
   "cell_type": "code",
   "execution_count": 26,
   "metadata": {},
   "outputs": [],
   "source": [
    "dic27= {'name':'홍길동','birth':'97년 02월 02일','age':'25'}"
   ]
  },
  {
   "cell_type": "code",
   "execution_count": 30,
   "metadata": {},
   "outputs": [
    {
     "name": "stdout",
     "output_type": "stream",
     "text": [
      "dict_keys(['name', 'birth', 'age'])\n",
      "['홍길동', '97년 02월 02일', '25']\n"
     ]
    }
   ],
   "source": [
    "key_list= dic27.keys() #key를 모아서 dict_keys 함수 객체로 돌려준다.\n",
    "print(key_list)\n",
    "\n",
    "value_list2 = list(dic27.values())\n",
    "print(value_list2)"
   ]
  },
  {
   "cell_type": "code",
   "execution_count": 48,
   "metadata": {},
   "outputs": [
    {
     "name": "stdout",
     "output_type": "stream",
     "text": [
      "key - > ['name', 'birth', 'age']\n",
      "value-> ['홍길동', '951012', 26]\n",
      "이름은 홍길동이고, 생년월일은 95년 10월 12일이며, 나이는 26세이다\n"
     ]
    }
   ],
   "source": [
    "member= {'name':'홍길동','birth':'951012','age':26}\n",
    "\n",
    "# 키목록 구하기\n",
    "keyData =list(member.keys())\n",
    "valueData=list(member.values())\n",
    "\n",
    "print('key - >' , keyData )\n",
    "print('value->' , valueData)\n",
    "birth = member['birth']\n",
    "print(f\"이름은 {member['name']}이고, 생년월일은 {birth[:2]}년 {birth[2:4]}월 {birth[4:]}일이며, 나이는 {member['age']}세이다\")"
   ]
  },
  {
   "cell_type": "markdown",
   "metadata": {},
   "source": []
  },
  {
   "cell_type": "code",
   "execution_count": null,
   "metadata": {},
   "outputs": [],
   "source": []
  },
  {
   "cell_type": "code",
   "execution_count": 43,
   "metadata": {},
   "outputs": [
    {
     "ename": "TypeError",
     "evalue": "%d format: a number is required, not str",
     "output_type": "error",
     "traceback": [
      "\u001b[1;31m---------------------------------------------------------------------------\u001b[0m",
      "\u001b[1;31mTypeError\u001b[0m                                 Traceback (most recent call last)",
      "\u001b[1;32m<ipython-input-43-03e539277840>\u001b[0m in \u001b[0;36m<module>\u001b[1;34m\u001b[0m\n\u001b[1;32m----> 1\u001b[1;33m \u001b[0mmsg3\u001b[0m\u001b[1;33m=\u001b[0m \u001b[1;34m'이름은 %d이고, 생년월일은 %d이며, 나이는 %s세이다'\u001b[0m \u001b[1;33m%\u001b[0m\u001b[1;33m(\u001b[0m\u001b[0mdic27\u001b[0m\u001b[1;33m[\u001b[0m\u001b[1;34m'name'\u001b[0m\u001b[1;33m]\u001b[0m\u001b[1;33m,\u001b[0m\u001b[0mdic27\u001b[0m\u001b[1;33m[\u001b[0m\u001b[1;34m'birth'\u001b[0m\u001b[1;33m]\u001b[0m\u001b[1;33m,\u001b[0m\u001b[0mdic27\u001b[0m\u001b[1;33m[\u001b[0m\u001b[1;34m'age'\u001b[0m\u001b[1;33m]\u001b[0m\u001b[1;33m)\u001b[0m\u001b[1;33m\u001b[0m\u001b[1;33m\u001b[0m\u001b[0m\n\u001b[0m\u001b[0;32m      2\u001b[0m \u001b[0mmsg3\u001b[0m\u001b[1;33m\u001b[0m\u001b[1;33m\u001b[0m\u001b[0m\n",
      "\u001b[1;31mTypeError\u001b[0m: %d format: a number is required, not str"
     ]
    }
   ],
   "source": []
  },
  {
   "cell_type": "code",
   "execution_count": null,
   "metadata": {},
   "outputs": [],
   "source": []
  },
  {
   "cell_type": "code",
   "execution_count": null,
   "metadata": {},
   "outputs": [],
   "source": []
  },
  {
   "cell_type": "code",
   "execution_count": null,
   "metadata": {},
   "outputs": [],
   "source": []
  },
  {
   "cell_type": "code",
   "execution_count": null,
   "metadata": {},
   "outputs": [],
   "source": []
  }
 ],
 "metadata": {
  "kernelspec": {
   "display_name": "Python 3",
   "language": "python",
   "name": "python3"
  },
  "language_info": {
   "codemirror_mode": {
    "name": "ipython",
    "version": 3
   },
   "file_extension": ".py",
   "mimetype": "text/x-python",
   "name": "python",
   "nbconvert_exporter": "python",
   "pygments_lexer": "ipython3",
   "version": "3.8.5"
  }
 },
 "nbformat": 4,
 "nbformat_minor": 4
}
