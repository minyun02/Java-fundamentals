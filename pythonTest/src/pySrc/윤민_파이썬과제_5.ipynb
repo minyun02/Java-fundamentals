{
 "cells": [
  {
   "cell_type": "markdown",
   "metadata": {},
   "source": [
    "### ### 함수 생성하기\n",
    " \t함수명 : arith_test()\n",
    " \t매개변수 : 첫번째 매개변수를 선택하는 값('add'-->두번째 매개변수의 모든 값을 합하여 리턴)\n",
    "                                      ('mul'-->두번째 매개변수의 모든 값을 곱하여 리턴)\n",
    "                                      ('minus'-->두번째 매개변수의 모든 값을 빼기하여 리턴)\n",
    "        두번째 매개변수 숫자데이터의 입력에 갯수에 제한을 받지 않는 변수 정의한다.\n",
    "        \n",
    "  \tarith_test('add', 3,4,7,4,3,6,3, 343,4343,43434,3,2)\n",
    "  \tarith_test('mul', 3,4,7,4,343,33,6,32)\n",
    "  \tarith_test('minus', 8,3,6,73,4,7,4,3,6,32)"
   ]
  },
  {
   "cell_type": "code",
   "execution_count": 1,
   "metadata": {},
   "outputs": [],
   "source": [
    "def arith_test(choice,*data):\n",
    "    if choice=='add':\n",
    "        result=0\n",
    "        for num in data:\n",
    "            result = result +num\n",
    "        return result\n",
    "    elif choice=='mul':\n",
    "        result=1\n",
    "        for num in data:\n",
    "            result = result*num\n",
    "            return result\n",
    "        \n",
    "    elif choice=='minus':\n",
    "        result=0\n",
    "        for num in data:\n",
    "            result = result - num\n",
    "            return result\n",
    "    else:\n",
    "        print('선택을 잘못하셨다')\n",
    "        return 0;"
   ]
  },
  {
   "cell_type": "code",
   "execution_count": 2,
   "metadata": {},
   "outputs": [
    {
     "name": "stdout",
     "output_type": "stream",
     "text": [
      "48155\n",
      "3\n",
      "-8\n"
     ]
    }
   ],
   "source": [
    "print(arith_test('add', 3,4,7,4,3,6,3, 343,4343,43434,3,2))\n",
    "print(arith_test('mul', 3,4,7,4,343,33,6,32))\n",
    "print(arith_test('minus', 8,3,6,73,4,7,4,3,6,32))"
   ]
  },
  {
   "cell_type": "code",
   "execution_count": null,
   "metadata": {},
   "outputs": [],
   "source": []
  },
  {
   "cell_type": "code",
   "execution_count": null,
   "metadata": {},
   "outputs": [],
   "source": []
  },
  {
   "cell_type": "code",
   "execution_count": null,
   "metadata": {},
   "outputs": [],
   "source": []
  },
  {
   "cell_type": "code",
   "execution_count": null,
   "metadata": {},
   "outputs": [],
   "source": []
  },
  {
   "cell_type": "code",
   "execution_count": null,
   "metadata": {},
   "outputs": [],
   "source": []
  },
  {
   "cell_type": "code",
   "execution_count": null,
   "metadata": {},
   "outputs": [],
   "source": []
  },
  {
   "cell_type": "code",
   "execution_count": null,
   "metadata": {},
   "outputs": [],
   "source": []
  },
  {
   "cell_type": "code",
   "execution_count": null,
   "metadata": {},
   "outputs": [],
   "source": []
  }
 ],
 "metadata": {
  "kernelspec": {
   "display_name": "Python 3",
   "language": "python",
   "name": "python3"
  },
  "language_info": {
   "codemirror_mode": {
    "name": "ipython",
    "version": 3
   },
   "file_extension": ".py",
   "mimetype": "text/x-python",
   "name": "python",
   "nbconvert_exporter": "python",
   "pygments_lexer": "ipython3",
   "version": "3.8.5"
  }
 },
 "nbformat": 4,
 "nbformat_minor": 4
}
