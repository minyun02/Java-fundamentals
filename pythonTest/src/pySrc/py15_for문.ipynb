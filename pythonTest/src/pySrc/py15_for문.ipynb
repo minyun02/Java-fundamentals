{
 "cells": [
  {
   "cell_type": "markdown",
   "metadata": {},
   "source": [
    "### for문"
   ]
  },
  {
   "cell_type": "code",
   "execution_count": 1,
   "metadata": {},
   "outputs": [],
   "source": [
    "data1 = [12,45,87,75,48,69,56]"
   ]
  },
  {
   "cell_type": "code",
   "execution_count": null,
   "metadata": {},
   "outputs": [],
   "source": [
    "# data1의 값 중에 60이상 데이터를 data2로 옮겨라"
   ]
  },
  {
   "cell_type": "code",
   "execution_count": 2,
   "metadata": {},
   "outputs": [
    {
     "name": "stdout",
     "output_type": "stream",
     "text": [
      "[87, 75, 69]\n"
     ]
    }
   ],
   "source": [
    "data2 = list() # data2 = []\n",
    "for d in data1:\n",
    "    if d>=60:\n",
    "        data2.append(d)\n",
    "print(data2)"
   ]
  },
  {
   "cell_type": "code",
   "execution_count": 7,
   "metadata": {},
   "outputs": [
    {
     "name": "stdout",
     "output_type": "stream",
     "text": [
      "1\n",
      "3\n",
      "5\n",
      "7\n",
      "9\n"
     ]
    }
   ],
   "source": [
    "#             1부터 10이전까지 반복\n",
    "#            초기값, 최종값, 증가값\n",
    "for i in range(1, 10, 2):\n",
    "    print(i)"
   ]
  },
  {
   "cell_type": "code",
   "execution_count": 8,
   "metadata": {},
   "outputs": [
    {
     "name": "stdout",
     "output_type": "stream",
     "text": [
      "1번째 데이터는 87이다\n",
      "2번째 데이터는 75이다\n",
      "3번째 데이터는 69이다\n"
     ]
    }
   ],
   "source": [
    "# 1 = 87\n",
    "# 2 = 75\n",
    "# 3 = 69\n",
    "for i in range(len(data2)):\n",
    "    print('%d번째 데이터는 %d이다' % (i+1, data2[i]))"
   ]
  },
  {
   "cell_type": "code",
   "execution_count": 9,
   "metadata": {},
   "outputs": [
    {
     "name": "stdout",
     "output_type": "stream",
     "text": [
      "10--->20\n",
      "100--->200\n",
      "500--->600\n",
      "800--->900\n"
     ]
    }
   ],
   "source": [
    "data3 = [(10,20),(100,200),(500,600),(800,900)]\n",
    "# 10 -> 20\n",
    "# 100 -> 200\n",
    "# 500 -> 500\n",
    "# 800 -> 900\n",
    "for (first, last) in data3:\n",
    "    print(f'{first}--->{last}')"
   ]
  },
  {
   "cell_type": "code",
   "execution_count": 12,
   "metadata": {},
   "outputs": [
    {
     "name": "stdout",
     "output_type": "stream",
     "text": [
      "1번 홍길동은 합격입니다.\n",
      "2번 이순신은 합격입니다.\n",
      "3번 세종대왕은 불합격입니다.\n",
      "4번 김삿갓은 합격입니다.\n"
     ]
    }
   ],
   "source": [
    "data4 = [('홍길동',60), ('이순신',90),('세종대왕',50),('김삿갓',70)]\n",
    "\n",
    "# 1번 홍길동은 합격입니다.\n",
    "# 2번 이순신은 합격입니다.\n",
    "# 3번 세종대왕은 불합격입니다.\n",
    "# 4번 김삿갓은 합격입니다.\n",
    "\n",
    "for num in range(len(data4)):\n",
    "    t = data4[num] # ('홍길동', 60)\n",
    "    result = \"\"\n",
    "    if t[1]>=60:\n",
    "        result = '합격'\n",
    "    else:\n",
    "        result = '불합격'\n",
    "    print(f'{num+1}번 {t[0]}은 {result}입니다.')"
   ]
  },
  {
   "cell_type": "code",
   "execution_count": null,
   "metadata": {},
   "outputs": [],
   "source": [
    "# data4 의 정보를 이용하여 합격한 학생만 출력하라.\n",
    "# 1번 홍길동은 합격입니다.\n",
    "# 2번 이순신은 합격입니다.\n",
    "# 4번 김삿갓은 합격입니다."
   ]
  },
  {
   "cell_type": "code",
   "execution_count": 14,
   "metadata": {},
   "outputs": [
    {
     "name": "stdout",
     "output_type": "stream",
     "text": [
      "1번 홍길동은 합격입니다\n",
      "2번 이순신은 합격입니다\n",
      "4번 김삿갓은 합격입니다\n"
     ]
    }
   ],
   "source": [
    "for num in range(len(data4)):\n",
    "    t = data4[num]\n",
    "    if t[1]<60:\n",
    "        continue\n",
    "    print(f'{num+1}번 {t[0]}은 합격입니다')"
   ]
  },
  {
   "cell_type": "code",
   "execution_count": 15,
   "metadata": {},
   "outputs": [
    {
     "data": {
      "text/plain": [
       "12"
      ]
     },
     "execution_count": 15,
     "metadata": {},
     "output_type": "execute_result"
    }
   ],
   "source": [
    "data5 = [56,84,3,74,92,75,62,14,68,62,55,95]\n",
    "\n",
    "#data5를 이용하여 짝수만 그값을 3배하고 새로운 list를 생성하라.\n",
    "len(data5)"
   ]
  },
  {
   "cell_type": "code",
   "execution_count": 17,
   "metadata": {},
   "outputs": [
    {
     "data": {
      "text/plain": [
       "[59, 87, 77, 95, 65, 17, 71, 65]"
      ]
     },
     "execution_count": 17,
     "metadata": {},
     "output_type": "execute_result"
    }
   ],
   "source": [
    "test_list = []\n",
    "for value in data5:\n",
    "    if value%2==0: #짝수\n",
    "        test_list.append(value+3)\n",
    "test_list"
   ]
  },
  {
   "cell_type": "code",
   "execution_count": 18,
   "metadata": {},
   "outputs": [
    {
     "data": {
      "text/plain": [
       "[56, 84, 3, 74, 92, 75, 62, 14, 68, 62, 55, 95]"
      ]
     },
     "execution_count": 18,
     "metadata": {},
     "output_type": "execute_result"
    }
   ],
   "source": [
    "data5"
   ]
  },
  {
   "cell_type": "code",
   "execution_count": 19,
   "metadata": {},
   "outputs": [],
   "source": [
    "test_list3 = [n*4 for n in data5]"
   ]
  },
  {
   "cell_type": "code",
   "execution_count": 20,
   "metadata": {},
   "outputs": [
    {
     "data": {
      "text/plain": [
       "[224, 336, 12, 296, 368, 300, 248, 56, 272, 248, 220, 380]"
      ]
     },
     "execution_count": 20,
     "metadata": {},
     "output_type": "execute_result"
    }
   ],
   "source": [
    "test_list3"
   ]
  },
  {
   "cell_type": "code",
   "execution_count": 22,
   "metadata": {},
   "outputs": [
    {
     "data": {
      "text/plain": [
       "[6, 150, 110, 190]"
      ]
     },
     "execution_count": 22,
     "metadata": {},
     "output_type": "execute_result"
    }
   ],
   "source": [
    "# data5 값을 이용하여 홀수인 경우 2배하고 새로운 리스트 생성\n",
    "test_list4 = [num*2 for num in data5 if num%2==1]\n",
    "test_list4"
   ]
  },
  {
   "cell_type": "code",
   "execution_count": 23,
   "metadata": {},
   "outputs": [
    {
     "name": "stdout",
     "output_type": "stream",
     "text": [
      "1 1\n",
      "1 2\n",
      "1 3\n",
      "1 4\n",
      "2 1\n",
      "2 2\n",
      "2 3\n",
      "2 4\n",
      "3 1\n",
      "3 2\n",
      "3 3\n",
      "3 4\n",
      "4 1\n",
      "4 2\n",
      "4 3\n",
      "4 4\n"
     ]
    }
   ],
   "source": [
    "### 중첩반복문\n",
    "for i in range(1,5):\n",
    "    for j in range(1,5):\n",
    "        print(i,j)"
   ]
  },
  {
   "cell_type": "code",
   "execution_count": 25,
   "metadata": {},
   "outputs": [
    {
     "name": "stdout",
     "output_type": "stream",
     "text": [
      "[(3, 11, 6), (3, 11, 7), (3, 11, 8), (3, 11, 9), (3, 11, 10), (3, 12, 6), (3, 12, 7), (3, 12, 8), (3, 12, 9), (3, 12, 10), (3, 13, 6), (3, 13, 7), (3, 13, 8), (3, 13, 9), (3, 13, 10), (3, 14, 6), (3, 14, 7), (3, 14, 8), (3, 14, 9), (3, 14, 10), (3, 15, 6), (3, 15, 7), (3, 15, 8), (3, 15, 9), (3, 15, 10), (4, 11, 6), (4, 11, 7), (4, 11, 8), (4, 11, 9), (4, 11, 10), (4, 12, 6), (4, 12, 7), (4, 12, 8), (4, 12, 9), (4, 12, 10), (4, 13, 6), (4, 13, 7), (4, 13, 8), (4, 13, 9), (4, 13, 10), (4, 14, 6), (4, 14, 7), (4, 14, 8), (4, 14, 9), (4, 14, 10), (4, 15, 6), (4, 15, 7), (4, 15, 8), (4, 15, 9), (4, 15, 10), (5, 11, 6), (5, 11, 7), (5, 11, 8), (5, 11, 9), (5, 11, 10), (5, 12, 6), (5, 12, 7), (5, 12, 8), (5, 12, 9), (5, 12, 10), (5, 13, 6), (5, 13, 7), (5, 13, 8), (5, 13, 9), (5, 13, 10), (5, 14, 6), (5, 14, 7), (5, 14, 8), (5, 14, 9), (5, 14, 10), (5, 15, 6), (5, 15, 7), (5, 15, 8), (5, 15, 9), (5, 15, 10), (6, 11, 6), (6, 11, 7), (6, 11, 8), (6, 11, 9), (6, 11, 10), (6, 12, 6), (6, 12, 7), (6, 12, 8), (6, 12, 9), (6, 12, 10), (6, 13, 6), (6, 13, 7), (6, 13, 8), (6, 13, 9), (6, 13, 10), (6, 14, 6), (6, 14, 7), (6, 14, 8), (6, 14, 9), (6, 14, 10), (6, 15, 6), (6, 15, 7), (6, 15, 8), (6, 15, 9), (6, 15, 10), (7, 11, 6), (7, 11, 7), (7, 11, 8), (7, 11, 9), (7, 11, 10), (7, 12, 6), (7, 12, 7), (7, 12, 8), (7, 12, 9), (7, 12, 10), (7, 13, 6), (7, 13, 7), (7, 13, 8), (7, 13, 9), (7, 13, 10), (7, 14, 6), (7, 14, 7), (7, 14, 8), (7, 14, 9), (7, 14, 10), (7, 15, 6), (7, 15, 7), (7, 15, 8), (7, 15, 9), (7, 15, 10)]\n"
     ]
    }
   ],
   "source": [
    "test_list5 = [(x,y,z) for x in range(3,8) for y in range(11,16) for z in range(6,11)]\n",
    "print(test_list5)"
   ]
  },
  {
   "cell_type": "code",
   "execution_count": 26,
   "metadata": {},
   "outputs": [
    {
     "name": "stdout",
     "output_type": "stream",
     "text": [
      "[20, 21, 22, 23, 24, 21, 22, 23, 24, 25, 22, 23, 24, 25, 26, 23, 24, 25, 26, 27, 24, 25, 26, 27, 28, 21, 22, 23, 24, 25, 22, 23, 24, 25, 26, 23, 24, 25, 26, 27, 24, 25, 26, 27, 28, 25, 26, 27, 28, 29, 22, 23, 24, 25, 26, 23, 24, 25, 26, 27, 24, 25, 26, 27, 28, 25, 26, 27, 28, 29, 26, 27, 28, 29, 30, 23, 24, 25, 26, 27, 24, 25, 26, 27, 28, 25, 26, 27, 28, 29, 26, 27, 28, 29, 30, 27, 28, 29, 30, 31, 24, 25, 26, 27, 28, 25, 26, 27, 28, 29, 26, 27, 28, 29, 30, 27, 28, 29, 30, 31, 28, 29, 30, 31, 32]\n"
     ]
    }
   ],
   "source": [
    "test_list5 = [x+y+z for x in range(3,8) for y in range(11,16) for z in range(6,11)]\n",
    "print(test_list5)"
   ]
  },
  {
   "cell_type": "markdown",
   "metadata": {},
   "source": [
    "### 내포된 for문을 이용하여 구구단을 리스트에 저장하라\n",
    "2단 부터 9단까지\n",
    "[(2, 2, 4),(2, 3, 6),,,,,,]\n",
    "\n",
    "list에 저장된 구구단을 이용하여 출력하라.\n",
    "\n",
    "2*2=4\n",
    "2*3=6\n"
   ]
  },
  {
   "cell_type": "code",
   "execution_count": 27,
   "metadata": {},
   "outputs": [
    {
     "name": "stdout",
     "output_type": "stream",
     "text": [
      "[(2, 2, 4), (2, 3, 6), (2, 4, 8), (2, 5, 10), (2, 6, 12), (2, 7, 14), (2, 8, 16), (2, 9, 18), (3, 2, 6), (3, 3, 9), (3, 4, 12), (3, 5, 15), (3, 6, 18), (3, 7, 21), (3, 8, 24), (3, 9, 27), (4, 2, 8), (4, 3, 12), (4, 4, 16), (4, 5, 20), (4, 6, 24), (4, 7, 28), (4, 8, 32), (4, 9, 36), (5, 2, 10), (5, 3, 15), (5, 4, 20), (5, 5, 25), (5, 6, 30), (5, 7, 35), (5, 8, 40), (5, 9, 45), (6, 2, 12), (6, 3, 18), (6, 4, 24), (6, 5, 30), (6, 6, 36), (6, 7, 42), (6, 8, 48), (6, 9, 54), (7, 2, 14), (7, 3, 21), (7, 4, 28), (7, 5, 35), (7, 6, 42), (7, 7, 49), (7, 8, 56), (7, 9, 63), (8, 2, 16), (8, 3, 24), (8, 4, 32), (8, 5, 40), (8, 6, 48), (8, 7, 56), (8, 8, 64), (8, 9, 72), (9, 2, 18), (9, 3, 27), (9, 4, 36), (9, 5, 45), (9, 6, 54), (9, 7, 63), (9, 8, 72), (9, 9, 81)]\n"
     ]
    }
   ],
   "source": [
    "gugudan = [ (dan, i, dan*i) for dan in range(2, 10) for i in range(2, 10)]\n",
    "print(gugudan)"
   ]
  },
  {
   "cell_type": "code",
   "execution_count": 29,
   "metadata": {},
   "outputs": [
    {
     "name": "stdout",
     "output_type": "stream",
     "text": [
      "2 * 2 = 4\n",
      "2 * 3 = 6\n",
      "2 * 4 = 8\n",
      "2 * 5 = 10\n",
      "2 * 6 = 12\n",
      "2 * 7 = 14\n",
      "2 * 8 = 16\n",
      "2 * 9 = 18\n",
      "3 * 2 = 6\n",
      "3 * 3 = 9\n",
      "3 * 4 = 12\n",
      "3 * 5 = 15\n",
      "3 * 6 = 18\n",
      "3 * 7 = 21\n",
      "3 * 8 = 24\n",
      "3 * 9 = 27\n",
      "4 * 2 = 8\n",
      "4 * 3 = 12\n",
      "4 * 4 = 16\n",
      "4 * 5 = 20\n",
      "4 * 6 = 24\n",
      "4 * 7 = 28\n",
      "4 * 8 = 32\n",
      "4 * 9 = 36\n",
      "5 * 2 = 10\n",
      "5 * 3 = 15\n",
      "5 * 4 = 20\n",
      "5 * 5 = 25\n",
      "5 * 6 = 30\n",
      "5 * 7 = 35\n",
      "5 * 8 = 40\n",
      "5 * 9 = 45\n",
      "6 * 2 = 12\n",
      "6 * 3 = 18\n",
      "6 * 4 = 24\n",
      "6 * 5 = 30\n",
      "6 * 6 = 36\n",
      "6 * 7 = 42\n",
      "6 * 8 = 48\n",
      "6 * 9 = 54\n",
      "7 * 2 = 14\n",
      "7 * 3 = 21\n",
      "7 * 4 = 28\n",
      "7 * 5 = 35\n",
      "7 * 6 = 42\n",
      "7 * 7 = 49\n",
      "7 * 8 = 56\n",
      "7 * 9 = 63\n",
      "8 * 2 = 16\n",
      "8 * 3 = 24\n",
      "8 * 4 = 32\n",
      "8 * 5 = 40\n",
      "8 * 6 = 48\n",
      "8 * 7 = 56\n",
      "8 * 8 = 64\n",
      "8 * 9 = 72\n",
      "9 * 2 = 18\n",
      "9 * 3 = 27\n",
      "9 * 4 = 36\n",
      "9 * 5 = 45\n",
      "9 * 6 = 54\n",
      "9 * 7 = 63\n",
      "9 * 8 = 72\n",
      "9 * 9 = 81\n"
     ]
    }
   ],
   "source": [
    "for gugu in gugudan:\n",
    "    print(f'{gugu[0]} * {gugu[1]} = {gugu[2]}')"
   ]
  },
  {
   "cell_type": "code",
   "execution_count": null,
   "metadata": {},
   "outputs": [],
   "source": []
  },
  {
   "cell_type": "code",
   "execution_count": null,
   "metadata": {},
   "outputs": [],
   "source": []
  },
  {
   "cell_type": "code",
   "execution_count": null,
   "metadata": {},
   "outputs": [],
   "source": []
  },
  {
   "cell_type": "code",
   "execution_count": null,
   "metadata": {},
   "outputs": [],
   "source": []
  },
  {
   "cell_type": "code",
   "execution_count": null,
   "metadata": {},
   "outputs": [],
   "source": []
  },
  {
   "cell_type": "code",
   "execution_count": null,
   "metadata": {},
   "outputs": [],
   "source": []
  },
  {
   "cell_type": "code",
   "execution_count": null,
   "metadata": {},
   "outputs": [],
   "source": []
  },
  {
   "cell_type": "code",
   "execution_count": null,
   "metadata": {},
   "outputs": [],
   "source": []
  }
 ],
 "metadata": {
  "kernelspec": {
   "display_name": "Python 3",
   "language": "python",
   "name": "python3"
  },
  "language_info": {
   "codemirror_mode": {
    "name": "ipython",
    "version": 3
   },
   "file_extension": ".py",
   "mimetype": "text/x-python",
   "name": "python",
   "nbconvert_exporter": "python",
   "pygments_lexer": "ipython3",
   "version": "3.8.5"
  }
 },
 "nbformat": 4,
 "nbformat_minor": 4
}
