{
 "cells": [
  {
   "cell_type": "markdown",
   "metadata": {},
   "source": [
    "##조건문\n",
    "- 반드시 tab으로 들여쓰기\n",
    "- 비교연산자 : >,<.<=,>= ==,!=\n",
    "- 논리연산자 : and,or,not\n",
    "    \n",
    "- if조건문:\n",
    "        실행문1\n",
    "        실행문2\n",
    "  elif  조건문:\n",
    "        실행문3\n",
    "        실행문4\n",
    "   else\n",
    "        실행문5"
   ]
  },
  {
   "cell_type": "code",
   "execution_count": 1,
   "metadata": {},
   "outputs": [
    {
     "name": "stdout",
     "output_type": "stream",
     "text": [
      "택시를타라\n"
     ]
    }
   ],
   "source": [
    "money = True;\n",
    "if money:\n",
    "    print('택시를타라')\n",
    "else:\n",
    "    print('걸어서가라')"
   ]
  },
  {
   "cell_type": "code",
   "execution_count": 3,
   "metadata": {},
   "outputs": [
    {
     "name": "stdout",
     "output_type": "stream",
     "text": [
      "30은 a 리스트에 있다.\n",
      "True\n"
     ]
    }
   ],
   "source": [
    "#in , not in 연산자\n",
    "# list\n",
    "\n",
    "a = [10,20,30,40,50,60]\n",
    "b = 30 in a # 30이 리스트에 있는가?\n",
    "\n",
    "if b :\n",
    "    print('30은 a 리스트에 있다.')\n",
    "else:\n",
    "    print('30은 a 리스트에 없다')\n",
    "    \n",
    "c =45 not in a\n",
    "print(c)"
   ]
  },
  {
   "cell_type": "code",
   "execution_count": 4,
   "metadata": {},
   "outputs": [
    {
     "name": "stdout",
     "output_type": "stream",
     "text": [
      "True\n",
      "True\n"
     ]
    }
   ],
   "source": [
    "# tuple\n",
    "i = (25,54,42,12,64)\n",
    "x = 54 in i\n",
    "y = 50 not in i \n",
    "print(x)\n",
    "print(y)"
   ]
  },
  {
   "cell_type": "code",
   "execution_count": 5,
   "metadata": {},
   "outputs": [
    {
     "name": "stdout",
     "output_type": "stream",
     "text": [
      "True\n",
      "False\n"
     ]
    }
   ],
   "source": [
    "txt='Test Python'\n",
    "t = 't' in txt\n",
    "tt = 'T' not in txt\n",
    "print(t)\n",
    "print(tt)"
   ]
  },
  {
   "cell_type": "code",
   "execution_count": 8,
   "metadata": {},
   "outputs": [
    {
     "name": "stdout",
     "output_type": "stream",
     "text": [
      "걸어가\n"
     ]
    }
   ],
   "source": [
    "poket = ['handphone','pen',]\n",
    "if 'money' in poket:\n",
    "    print('지하철타')\n",
    "else:\n",
    "    print('걸어가')"
   ]
  },
  {
   "cell_type": "code",
   "execution_count": 9,
   "metadata": {},
   "outputs": [
    {
     "name": "stdout",
     "output_type": "stream",
     "text": [
      "working\n"
     ]
    }
   ],
   "source": [
    "if 'money' in poket:\n",
    "    print('taxi')\n",
    "elif 'card' in poket:\n",
    "    print('tex')\n",
    "else:\n",
    "    print('working')"
   ]
  },
  {
   "cell_type": "code",
   "execution_count": 10,
   "metadata": {},
   "outputs": [
    {
     "name": "stdout",
     "output_type": "stream",
     "text": [
      "합격\n"
     ]
    }
   ],
   "source": [
    "jumsu = 65\n",
    "if jumsu>=60:\n",
    "    print('합격')\n",
    "else:\n",
    "    print('불합격')"
   ]
  },
  {
   "cell_type": "code",
   "execution_count": 12,
   "metadata": {},
   "outputs": [
    {
     "name": "stdout",
     "output_type": "stream",
     "text": [
      "합격\n"
     ]
    }
   ],
   "source": [
    "#     조건이 참일 때      조건이 거짓일떄\n",
    "result='합격' if jumsu>=60 else '불합격'\n",
    "print(result)"
   ]
  },
  {
   "cell_type": "code",
   "execution_count": null,
   "metadata": {},
   "outputs": [],
   "source": [
    "# 진법과 값을 입력받아 입력받은 값으로 해당 진법으로 환산하여 출력하라\n",
    "# 진법 (16,10,8,2)? 16\n",
    "# 값 ? 66878\n",
    "# 66878 - > a43c3"
   ]
  },
  {
   "cell_type": "code",
   "execution_count": null,
   "metadata": {},
   "outputs": [],
   "source": []
  },
  {
   "cell_type": "code",
   "execution_count": null,
   "metadata": {},
   "outputs": [],
   "source": []
  },
  {
   "cell_type": "code",
   "execution_count": null,
   "metadata": {},
   "outputs": [],
   "source": []
  }
 ],
 "metadata": {
  "kernelspec": {
   "display_name": "Python 3",
   "language": "python",
   "name": "python3"
  },
  "language_info": {
   "codemirror_mode": {
    "name": "ipython",
    "version": 3
   },
   "file_extension": ".py",
   "mimetype": "text/x-python",
   "name": "python",
   "nbconvert_exporter": "python",
   "pygments_lexer": "ipython3",
   "version": "3.8.5"
  }
 },
 "nbformat": 4,
 "nbformat_minor": 4
}
