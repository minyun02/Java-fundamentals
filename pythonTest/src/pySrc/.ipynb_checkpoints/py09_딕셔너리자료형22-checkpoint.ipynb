{
 "cells": [
  {
   "cell_type": "markdown",
   "metadata": {},
   "source": [
    "### 딕셔너리 자료형\n",
    "- 리스트와 튜플처럼 순서를 구하지 않고 key, value가 존재한다\n",
    "- {key: value, key:value, key:value}\n"
   ]
  },
  {
   "cell_type": "code",
   "execution_count": 1,
   "metadata": {},
   "outputs": [
    {
     "name": "stdout",
     "output_type": "stream",
     "text": [
      "{1: 'hi'}\n",
      "{'one': [1, 2, 3, 4, 5]}\n",
      "{'userid': 'hong', 'userpwd': '1234'}\n"
     ]
    }
   ],
   "source": [
    "dic1 = {1:'hi'}\n",
    "dic2 = {'one' : [1,2,3,4,5]}\n",
    "dic3 = {'userid':'hong', 'userpwd':'1234'}\n",
    "print(dic1)\n",
    "print(dic2)\n",
    "print(dic3)"
   ]
  },
  {
   "cell_type": "code",
   "execution_count": null,
   "metadata": {},
   "outputs": [],
   "source": [
    "### 딕셔너리에 데이터 추가하기"
   ]
  },
  {
   "cell_type": "code",
   "execution_count": 3,
   "metadata": {},
   "outputs": [
    {
     "name": "stdout",
     "output_type": "stream",
     "text": [
      "{'one': [1, 2, 3, 4, 5], 'two': [10, 20, 30]}\n"
     ]
    }
   ],
   "source": [
    "dic2['two'] = [10,20,30]\n",
    "print(dic2)"
   ]
  },
  {
   "cell_type": "code",
   "execution_count": 4,
   "metadata": {},
   "outputs": [
    {
     "name": "stdout",
     "output_type": "stream",
     "text": [
      "{'two': [10, 20, 30]}\n"
     ]
    }
   ],
   "source": [
    "# 딕셔너리 데이터 지우기\n",
    "#         key\n",
    "del dic2['one']\n",
    "print(dic2)"
   ]
  },
  {
   "cell_type": "code",
   "execution_count": 6,
   "metadata": {},
   "outputs": [
    {
     "name": "stdout",
     "output_type": "stream",
     "text": [
      "{1: 'one', 2: 'two', 3: 'three'}\n"
     ]
    }
   ],
   "source": [
    "# key값이 중복되는 경우\n",
    "dic4 = {1:'one', 2:'two', 3:'three'}\n",
    "print(dic4)"
   ]
  },
  {
   "cell_type": "code",
   "execution_count": 7,
   "metadata": {},
   "outputs": [
    {
     "name": "stdout",
     "output_type": "stream",
     "text": [
      "hong\n"
     ]
    }
   ],
   "source": [
    "print(dic3['userid'])"
   ]
  },
  {
   "cell_type": "code",
   "execution_count": null,
   "metadata": {},
   "outputs": [],
   "source": []
  },
  {
   "cell_type": "code",
   "execution_count": null,
   "metadata": {},
   "outputs": [],
   "source": []
  },
  {
   "cell_type": "markdown",
   "metadata": {},
   "source": [
    "### 딕셔너리 만들기\n",
    "항목    값\n",
    "name    홍길동\n",
    "birth   951012\n",
    "age     26\n",
    "\n",
    "다음 항목을 딕셔너리로 만들고\n",
    "1. key 목록과 value목록을 리스트로 출력하라.\n",
    "2. 이름은 홍길동이고, 생년월일은 95년 10월 12일이며, 나이는 26세이다. 로 출력하라"
   ]
  },
  {
   "cell_type": "code",
   "execution_count": 9,
   "metadata": {},
   "outputs": [
    {
     "name": "stdout",
     "output_type": "stream",
     "text": [
      "dict_keys(['name', 'birth', 'age'])\n",
      "dict_values(['홍길동', '951012', '26'])\n",
      "이름은 홍길동이고, 생년월일은 95년10월12일이며, 나이는 26세이다.\n"
     ]
    }
   ],
   "source": [
    "dic5 = {'name' : '홍길동', 'birth':'951012','age':26}\n",
    "key_list2 = dic5.keys() \n",
    "print(key_list2)\n",
    "\n",
    "value_list2 = dic5.values()\n",
    "print(value_list2)\n",
    "\n",
    "print('이름은 '  + dic5['name'] + '이고, 생년월일은 ' + dic5['birth'][0:2]\n",
    "      + '년' + dic5['birth'][2:4] + '월' + dic5['birth'][4:6] + '일이며, 나이는 ' + dic5['age'] + '세이다.')"
   ]
  },
  {
   "cell_type": "code",
   "execution_count": null,
   "metadata": {},
   "outputs": [],
   "source": []
  },
  {
   "cell_type": "code",
   "execution_count": null,
   "metadata": {},
   "outputs": [],
   "source": []
  },
  {
   "cell_type": "code",
   "execution_count": null,
   "metadata": {},
   "outputs": [],
   "source": []
  }
 ],
 "metadata": {
  "kernelspec": {
   "display_name": "Python 3",
   "language": "python",
   "name": "python3"
  },
  "language_info": {
   "codemirror_mode": {
    "name": "ipython",
    "version": 3
   },
   "file_extension": ".py",
   "mimetype": "text/x-python",
   "name": "python",
   "nbconvert_exporter": "python",
   "pygments_lexer": "ipython3",
   "version": "3.8.5"
  }
 },
 "nbformat": 4,
 "nbformat_minor": 4
}
