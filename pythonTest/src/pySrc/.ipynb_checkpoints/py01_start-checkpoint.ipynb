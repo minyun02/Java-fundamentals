{
 "cells": [
  {
   "cell_type": "markdown",
   "metadata": {},
   "source": [
    "# 헤더만들기\n",
    "- 설명쓰는 곳\n",
    "-<b>태그</b>도 적용가능"
   ]
  },
  {
   "cell_type": "code",
   "execution_count": 1,
   "metadata": {},
   "outputs": [],
   "source": [
    "# 주석문\n",
    "# 주석문\n",
    "name = '홍'"
   ]
  },
  {
   "cell_type": "markdown",
   "metadata": {},
   "source": [
    "# 문자열"
   ]
  },
  {
   "cell_type": "code",
   "execution_count": 4,
   "metadata": {},
   "outputs": [],
   "source": [
    "str1 = '홍길동'\n",
    "str2 = '홍길동2'\n",
    "str3 = \"\"\"\n",
    "============\n",
    "여러줄의\n",
    "문자열\n",
    "표시하기\n",
    "------------------\n",
    "\"\"\"\n",
    "str4  = ''' \n",
    "여러줄의 \n",
    "문자열 \n",
    "표시하기\n",
    "'''"
   ]
  }
 ],
 "metadata": {
  "kernelspec": {
   "display_name": "Python 3",
   "language": "python",
   "name": "python3"
  },
  "language_info": {
   "codemirror_mode": {
    "name": "ipython",
    "version": 3
   },
   "file_extension": ".py",
   "mimetype": "text/x-python",
   "name": "python",
   "nbconvert_exporter": "python",
   "pygments_lexer": "ipython3",
   "version": "3.8.5"
  }
 },
 "nbformat": 4,
 "nbformat_minor": 4
}
