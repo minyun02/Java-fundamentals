{
 "cells": [
  {
   "cell_type": "markdown",
   "metadata": {},
   "source": [
    "### while문\n",
    "\n",
    "while 조건식:\n",
    "실행문1\n",
    "실행문2\n",
    "\n",
    "실행문3"
   ]
  },
  {
   "cell_type": "code",
   "execution_count": 9,
   "metadata": {},
   "outputs": [],
   "source": [
    "treehit=0"
   ]
  },
  {
   "cell_type": "code",
   "execution_count": 10,
   "metadata": {},
   "outputs": [
    {
     "name": "stdout",
     "output_type": "stream",
     "text": [
      "1번째 실행중..\n",
      "2번째 실행중..\n",
      "3번째 실행중..\n",
      "4번째 실행중..\n",
      "5번째 실행중..\n",
      "6번째 실행중..\n",
      "마지막 실행입니다..\n",
      "7번째 실행중..\n",
      "마지막 실행입니다..\n",
      "8번째 실행중..\n",
      "마지막 실행입니다..\n",
      "9번째 실행중..\n",
      "마지막 실행입니다..\n",
      "10번째 실행중..\n",
      "마지막 실행입니다..\n"
     ]
    }
   ],
   "source": [
    "while treehit<10:\n",
    "    treehit = treehit +1\n",
    "    print('%d번째 실행중..'% treehit)\n",
    "    if treehit>5:\n",
    "        #continue\n",
    "        print('마지막 실행입니다..')\n",
    "        #break"
   ]
  },
  {
   "cell_type": "code",
   "execution_count": null,
   "metadata": {},
   "outputs": [],
   "source": [
    "### while문 만들기"
   ]
  },
  {
   "cell_type": "code",
   "execution_count": 1,
   "metadata": {},
   "outputs": [],
   "source": [
    "menu = '''\n",
    "    1. list\n",
    "    2. edit\n",
    "    3. del\n",
    "    4. quit\n",
    "    \n",
    "    Endter number : '''"
   ]
  },
  {
   "cell_type": "code",
   "execution_count": 2,
   "metadata": {},
   "outputs": [
    {
     "name": "stdout",
     "output_type": "stream",
     "text": [
      "\n",
      "    1. list\n",
      "    2. edit\n",
      "    3. del\n",
      "    4. quit\n",
      "    \n",
      "    Endter number : \n"
     ]
    },
    {
     "name": "stdin",
     "output_type": "stream",
     "text": [
      "번호 선택 :  4\n"
     ]
    },
    {
     "name": "stdout",
     "output_type": "stream",
     "text": [
      "프로그램 종료\n"
     ]
    }
   ],
   "source": [
    "while True:\n",
    "    print(menu)\n",
    "    number = int(input('번호 선택 : '))\n",
    "    \n",
    "    if number ==1:\n",
    "        print('list선택됨')\n",
    "    elif number==2:\n",
    "        print('edit선택됨')\n",
    "    elif number ==3:\n",
    "        print('del선택')\n",
    "    else:\n",
    "        print('프로그램 종료')\n",
    "        break"
   ]
  },
  {
   "cell_type": "markdown",
   "metadata": {},
   "source": [
    "### while문을 이용하여 작성하라.\n",
    "- 남은 coffee의 수는 10개이다.\n",
    "- coffee 1개 가격 = 300원\n",
    "- 금액을 입력받아\n",
    "- 300원을 입력받으면 커피를 제공하고 재고를 출력한다.\n",
    "- 300원 이상을 입력받으면 커피를 제공하고 잔돈을 지불한다.\n",
    "- 300원 미만을 입력받으면 금액을 돌려주고 커피를 제공하지 않는다.\n",
    "- 재고가 부족하면 재고푸족 메세지를 출력하고 판매를 중지한다."
   ]
  },
  {
   "cell_type": "code",
   "execution_count": 7,
   "metadata": {},
   "outputs": [
    {
     "name": "stdin",
     "output_type": "stream",
     "text": [
      "커피 개수 입력 : 2\n"
     ]
    },
    {
     "name": "stdout",
     "output_type": "stream",
     "text": [
      "커피 2잔의 가격은 600입니다.\n"
     ]
    },
    {
     "name": "stdin",
     "output_type": "stream",
     "text": [
      "결제하기: 1000\n"
     ]
    },
    {
     "name": "stdout",
     "output_type": "stream",
     "text": [
      "1000원을 받았습니다\n"
     ]
    }
   ],
   "source": [
    "coffee = 10\n",
    "coffeePrice = 300\n",
    "totalCoffee = coffee * coffeePrice\n",
    "\n",
    "#while True:\n",
    "number = int(input('커피 개수 입력 :'))\n",
    "total = number * coffeePrice\n",
    "print('커피 %d잔의 가격은 %s입니다.'%(number, total))\n",
    "pay = int(input('결제하기:'))\n",
    "print('%d원을 받았습니다' % pay)\n",
    "if pay==coffeePrice:\n",
    "    print('커피 재고 : %d개' % coffee-number)\n",
    "elif pay>total: # 정상결제\n",
    "    print('잔돈 %d를 받아주십시오' % pay-total)\n",
    "    print('커피 재고 : %d개' % coffee-number)\n",
    "elif pay<total : #결제 실패\n",
    "    print('결제금액이 실패했습니다')\n",
    "    "
   ]
  },
  {
   "cell_type": "code",
   "execution_count": null,
   "metadata": {},
   "outputs": [],
   "source": []
  },
  {
   "cell_type": "code",
   "execution_count": null,
   "metadata": {},
   "outputs": [],
   "source": []
  },
  {
   "cell_type": "code",
   "execution_count": null,
   "metadata": {},
   "outputs": [],
   "source": []
  },
  {
   "cell_type": "code",
   "execution_count": null,
   "metadata": {},
   "outputs": [],
   "source": []
  },
  {
   "cell_type": "code",
   "execution_count": null,
   "metadata": {},
   "outputs": [],
   "source": []
  }
 ],
 "metadata": {
  "kernelspec": {
   "display_name": "Python 3",
   "language": "python",
   "name": "python3"
  },
  "language_info": {
   "codemirror_mode": {
    "name": "ipython",
    "version": 3
   },
   "file_extension": ".py",
   "mimetype": "text/x-python",
   "name": "python",
   "nbconvert_exporter": "python",
   "pygments_lexer": "ipython3",
   "version": "3.8.5"
  }
 },
 "nbformat": 4,
 "nbformat_minor": 4
}
