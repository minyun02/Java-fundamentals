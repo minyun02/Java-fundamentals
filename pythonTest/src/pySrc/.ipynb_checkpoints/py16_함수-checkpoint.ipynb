{
 "cells": [
  {
   "cell_type": "markdown",
   "metadata": {},
   "source": [
    "### 함수\n",
    "\n",
    "def 함수명(매개변수1, 매개변수2,,,,):\n",
    "    실행문1\n",
    "    실행문2\n",
    "    실행문3\n",
    "    return 변수, 상수, 수식 -> 없을수도있지"
   ]
  },
  {
   "cell_type": "code",
   "execution_count": 3,
   "metadata": {},
   "outputs": [],
   "source": [
    "# 함수 만들기\n",
    "def add(n1, n2):\n",
    "    result = n1+ n2\n",
    "    return result"
   ]
  },
  {
   "cell_type": "code",
   "execution_count": 5,
   "metadata": {},
   "outputs": [
    {
     "name": "stdout",
     "output_type": "stream",
     "text": [
      "15\n",
      "result2---> 14\n",
      "result3----> 102\n"
     ]
    }
   ],
   "source": [
    "#함수 사용하기\n",
    "result2 = add(6,8)\n",
    "print(add(5,10))\n",
    "result3 = 6 * add(8,9)\n",
    "print('result2--->', result2)\n",
    "print('result3---->', result3)"
   ]
  },
  {
   "cell_type": "code",
   "execution_count": 6,
   "metadata": {},
   "outputs": [],
   "source": [
    "def say():\n",
    "    return \"HI\""
   ]
  },
  {
   "cell_type": "code",
   "execution_count": 7,
   "metadata": {},
   "outputs": [
    {
     "name": "stdout",
     "output_type": "stream",
     "text": [
      "HI\n"
     ]
    }
   ],
   "source": [
    "print(say())"
   ]
  },
  {
   "cell_type": "code",
   "execution_count": 8,
   "metadata": {},
   "outputs": [],
   "source": [
    "def mul(a,b):\n",
    "    result = a * b\n",
    "    print(f'{a}*{b}={result}')"
   ]
  },
  {
   "cell_type": "code",
   "execution_count": 9,
   "metadata": {},
   "outputs": [
    {
     "name": "stdout",
     "output_type": "stream",
     "text": [
      "9*4=36\n"
     ]
    }
   ],
   "source": [
    "mul(9,4)"
   ]
  },
  {
   "cell_type": "code",
   "execution_count": 10,
   "metadata": {},
   "outputs": [
    {
     "name": "stdout",
     "output_type": "stream",
     "text": [
      "50*10=500\n"
     ]
    }
   ],
   "source": [
    "mul(a=50, b=10)"
   ]
  },
  {
   "cell_type": "code",
   "execution_count": 11,
   "metadata": {},
   "outputs": [
    {
     "name": "stdout",
     "output_type": "stream",
     "text": [
      "10*50=500\n"
     ]
    }
   ],
   "source": [
    "mul(a=10, b=50)"
   ]
  },
  {
   "cell_type": "markdown",
   "metadata": {},
   "source": [
    "### 함수의 매개변수 갯수가 일정하지 않을떄"
   ]
  },
  {
   "cell_type": "code",
   "execution_count": 15,
   "metadata": {},
   "outputs": [],
   "source": [
    "# 매개변수로 대입되는 데이터 합을 구해서 리턴하라.\n",
    "def add_many(*num):\n",
    "    result = 0\n",
    "    for i in num:\n",
    "        result = result + i\n",
    "    return result"
   ]
  },
  {
   "cell_type": "code",
   "execution_count": 13,
   "metadata": {},
   "outputs": [
    {
     "name": "stdout",
     "output_type": "stream",
     "text": [
      "(1, 23, 55, 54)\n"
     ]
    }
   ],
   "source": [
    "add_many(1,23,55,54)"
   ]
  },
  {
   "cell_type": "code",
   "execution_count": 17,
   "metadata": {},
   "outputs": [
    {
     "name": "stdout",
     "output_type": "stream",
     "text": [
      "60\n"
     ]
    }
   ],
   "source": [
    "print(add_many(54,3,3))"
   ]
  },
  {
   "cell_type": "markdown",
   "metadata": {},
   "source": [
    "### 함수 생성하기\n",
    " 함수명 : arith_test()\n",
    " 매개변수 : 첫번째 매개변수를 선택하는 값 ('aaa'---> 두번째 매개변수의 모든 값을 합하여 리턴)\n",
    "                                          ('mul'---> 두번째 매개변수의 모든 값을 곱하여 리턴)\n",
    "                                          ('minus'---> 두번째 매개변수의 모든 값을 빼고 리턴)\n",
    "            두번째 매개변수 숫자데이터 입력에 갯수에 제한을 받지 않는 변수 정의한다.\n",
    "arith_test('add', 3,4,7,4,3,6,32)\n",
    "arith_test('mul', 3,4,7,4,3,6,32)\n",
    "arith_test('minus', 3,4,7,4,3,6,32)"
   ]
  },
  {
   "cell_type": "code",
   "execution_count": 23,
   "metadata": {},
   "outputs": [],
   "source": [
    "def arith_test(choice, *data):\n",
    "    if choice=='add':\n",
    "        result = 0;\n",
    "        for num in data:\n",
    "            result = result + num\n",
    "        return result\n",
    "    elif choice=='mul':\n",
    "        result = 1\n",
    "        for num in data:\n",
    "            result = result * num\n",
    "            return result\n",
    "    elif choice=='minus':\n",
    "        result = 0\n",
    "        for num in data:\n",
    "            result = result - num\n",
    "        return result\n",
    "    else:\n",
    "        print('선택을 잘못했네?')\n",
    "        return 0"
   ]
  },
  {
   "cell_type": "code",
   "execution_count": 25,
   "metadata": {},
   "outputs": [
    {
     "name": "stdout",
     "output_type": "stream",
     "text": [
      "63\n"
     ]
    }
   ],
   "source": [
    "print(arith_test('add', 1,23,4,5,6,7,8,9))"
   ]
  },
  {
   "cell_type": "code",
   "execution_count": 29,
   "metadata": {},
   "outputs": [
    {
     "name": "stdout",
     "output_type": "stream",
     "text": [
      "23\n"
     ]
    }
   ],
   "source": [
    "print(arith_test('mul', 23,4,5,6,7,8,9))"
   ]
  },
  {
   "cell_type": "code",
   "execution_count": 27,
   "metadata": {},
   "outputs": [
    {
     "name": "stdout",
     "output_type": "stream",
     "text": [
      "-63\n"
     ]
    }
   ],
   "source": [
    "print(arith_test('minus', 1,23,4,5,6,7,8,9))"
   ]
  },
  {
   "cell_type": "markdown",
   "metadata": {},
   "source": [
    "### 키워드 파라미터\n",
    "\n",
    "- 매개변수의 갯수나 변수명이 다양할때 함수 생성하는 법\n",
    "- 변수와 값이 딕셔너리로 저장된다."
   ]
  },
  {
   "cell_type": "code",
   "execution_count": 35,
   "metadata": {},
   "outputs": [],
   "source": [
    "def output_keyword(**keyword):\n",
    "    print(keyword)\n",
    "    key_list = keyword.keys()\n",
    "    for k in key_list:\n",
    "        print(f'{k}={keyword[k]}')"
   ]
  },
  {
   "cell_type": "code",
   "execution_count": 31,
   "metadata": {},
   "outputs": [
    {
     "name": "stdout",
     "output_type": "stream",
     "text": [
      "{'a': 200}\n"
     ]
    }
   ],
   "source": [
    "output_keyword(a=200)"
   ]
  },
  {
   "cell_type": "code",
   "execution_count": 32,
   "metadata": {},
   "outputs": [
    {
     "name": "stdout",
     "output_type": "stream",
     "text": [
      "{'userid': 'goguma', 'userpwd': '1234'}\n"
     ]
    }
   ],
   "source": [
    "output_keyword(userid='goguma', userpwd='1234')"
   ]
  },
  {
   "cell_type": "code",
   "execution_count": 33,
   "metadata": {},
   "outputs": [
    {
     "name": "stdout",
     "output_type": "stream",
     "text": [
      "{'name': '홍길동', 'tel': '010-1234-1234', 'addr': '서울시 마포구 백범로'}\n"
     ]
    }
   ],
   "source": [
    "output_keyword(name='홍길동', tel='010-1234-1234', addr='서울시 마포구 백범로')"
   ]
  },
  {
   "cell_type": "code",
   "execution_count": null,
   "metadata": {},
   "outputs": [],
   "source": [
    "### 함수의 리턴값은 반드시 1개 아니어도 된다."
   ]
  },
  {
   "cell_type": "code",
   "execution_count": 36,
   "metadata": {},
   "outputs": [],
   "source": [
    "def arith_test2(n1, n2):\n",
    "    r1 = n1 + n2\n",
    "    r2 = n1*n2\n",
    "    r3 = n1/n2\n",
    "    r4 = n1-n2\n",
    "    return r1, r2, r3, r4"
   ]
  },
  {
   "cell_type": "code",
   "execution_count": 37,
   "metadata": {},
   "outputs": [
    {
     "data": {
      "text/plain": [
       "(62, 600, 4.166666666666667, 38)"
      ]
     },
     "execution_count": 37,
     "metadata": {},
     "output_type": "execute_result"
    }
   ],
   "source": [
    "arith_test2(50, 12)"
   ]
  },
  {
   "cell_type": "markdown",
   "metadata": {},
   "source": [
    "### 매개변수에 초기값 미설정하기"
   ]
  },
  {
   "cell_type": "code",
   "execution_count": 1,
   "metadata": {},
   "outputs": [],
   "source": [
    "def myInfor(name, age, man=True):\n",
    "    print(f'나의 이름은 (name)입니다.')\n",
    "    print(f'나의 나이는 (age)입니다')\n",
    "    if man:\n",
    "        print('나는 남자입니다.')\n",
    "    else:\n",
    "        print('나는 여자입니다.')"
   ]
  },
  {
   "cell_type": "code",
   "execution_count": 2,
   "metadata": {},
   "outputs": [
    {
     "name": "stdout",
     "output_type": "stream",
     "text": [
      "나의 이름은 (name)입니다.\n",
      "나의 나이는 (age)입니다\n",
      "나는 남자입니다.\n"
     ]
    }
   ],
   "source": [
    "myInfor('hong', 30)"
   ]
  },
  {
   "cell_type": "code",
   "execution_count": 4,
   "metadata": {},
   "outputs": [
    {
     "name": "stdout",
     "output_type": "stream",
     "text": [
      "나의 이름은 (name)입니다.\n",
      "나의 나이는 (age)입니다\n",
      "나는 여자입니다.\n"
     ]
    }
   ],
   "source": [
    "myInfor('lee', 40, False)"
   ]
  },
  {
   "cell_type": "markdown",
   "metadata": {},
   "source": [
    "### 함수내에 정의된 변수\n",
    "- global 키워드를 이용하여 함수 밖의 변수사용 가능"
   ]
  },
  {
   "cell_type": "code",
   "execution_count": 8,
   "metadata": {},
   "outputs": [
    {
     "name": "stdout",
     "output_type": "stream",
     "text": [
      "5 50\n",
      "100\n",
      "200\n"
     ]
    }
   ],
   "source": [
    "a = 100\n",
    "b = 200\n",
    "\n",
    "def varTest(a):\n",
    "    b = a*10\n",
    "    print(a, b)\n",
    "\n",
    "varTest(5)\n",
    "print(a)\n",
    "print(b)"
   ]
  },
  {
   "cell_type": "code",
   "execution_count": null,
   "metadata": {},
   "outputs": [],
   "source": [
    "### lambda\n",
    "- lambda 함수를 생성하는 키워드이다. def과 동일한 역할을 한다.\n",
    "- 함수를 한줄로 간결하게 만들때 사용한다.\n",
    "- 매개변수 -> lamda 변수1, 변수2, 변수3 : 실행문"
   ]
  },
  {
   "cell_type": "code",
   "execution_count": 11,
   "metadata": {},
   "outputs": [],
   "source": [
    "def hap(n1, n2):\n",
    "    return n1+n2"
   ]
  },
  {
   "cell_type": "code",
   "execution_count": 12,
   "metadata": {},
   "outputs": [
    {
     "name": "stdout",
     "output_type": "stream",
     "text": [
      "60\n"
     ]
    }
   ],
   "source": [
    "print(hap(20, 40))"
   ]
  },
  {
   "cell_type": "code",
   "execution_count": 14,
   "metadata": {},
   "outputs": [],
   "source": [
    "total = lambda a, b: a+b"
   ]
  },
  {
   "cell_type": "code",
   "execution_count": 15,
   "metadata": {},
   "outputs": [
    {
     "name": "stdout",
     "output_type": "stream",
     "text": [
      "8\n"
     ]
    }
   ],
   "source": [
    "print(total(2,6))"
   ]
  },
  {
   "cell_type": "code",
   "execution_count": null,
   "metadata": {},
   "outputs": [],
   "source": []
  },
  {
   "cell_type": "code",
   "execution_count": 16,
   "metadata": {},
   "outputs": [],
   "source": []
  },
  {
   "cell_type": "code",
   "execution_count": 18,
   "metadata": {},
   "outputs": [],
   "source": []
  },
  {
   "cell_type": "code",
   "execution_count": null,
   "metadata": {},
   "outputs": [],
   "source": []
  },
  {
   "cell_type": "code",
   "execution_count": 19,
   "metadata": {},
   "outputs": [
    {
     "name": "stdout",
     "output_type": "stream",
     "text": [
      "쓰기완료...\n"
     ]
    }
   ],
   "source": []
  },
  {
   "cell_type": "code",
   "execution_count": null,
   "metadata": {},
   "outputs": [],
   "source": []
  },
  {
   "cell_type": "code",
   "execution_count": 25,
   "metadata": {},
   "outputs": [
    {
     "name": "stdout",
     "output_type": "stream",
     "text": [
      "1번째 줄을 추가하였습니다.\n",
      "\n",
      "2번째 줄을 추가하였습니다.\n",
      "\n",
      "3번째 줄을 추가하였습니다.\n",
      "\n",
      "4번째 줄을 추가하였습니다.\n",
      "\n",
      "5번째 줄을 추가하였습니다.\n",
      "\n",
      "6번째 줄을 추가하였습니다.\n",
      "\n",
      "7번째 줄을 추가하였습니다.\n",
      "\n",
      "8번째 줄을 추가하였습니다.\n",
      "\n",
      "9번째 줄을 추가하였습니다.\n",
      "\n",
      "10번째 줄을 추가하였습니다.\n",
      "\n",
      "1001값을 추가합니다....\n",
      "\n",
      "1002값을 추가합니다....\n",
      "\n",
      "1003값을 추가합니다....\n",
      "\n",
      "1004값을 추가합니다....\n",
      "\n",
      "1005값을 추가합니다....\n",
      "\n",
      "1006값을 추가합니다....\n",
      "\n",
      "1007값을 추가합니다....\n",
      "\n",
      "1008값을 추가합니다....\n",
      "\n",
      "1009값을 추가합니다....\n",
      "\n",
      "1010값을 추가합니다....\n",
      "\n"
     ]
    }
   ],
   "source": []
  },
  {
   "cell_type": "code",
   "execution_count": 22,
   "metadata": {},
   "outputs": [
    {
     "name": "stdout",
     "output_type": "stream",
     "text": [
      "['1번째 줄을 추가하였습니다.\\n', '2번째 줄을 추가하였습니다.\\n', '3번째 줄을 추가하였습니다.\\n', '4번째 줄을 추가하였습니다.\\n', '5번째 줄을 추가하였습니다.\\n', '6번째 줄을 추가하였습니다.\\n', '7번째 줄을 추가하였습니다.\\n', '8번째 줄을 추가하였습니다.\\n', '9번째 줄을 추가하였습니다.\\n', '10번째 줄을 추가하였습니다.\\n']\n"
     ]
    }
   ],
   "source": []
  },
  {
   "cell_type": "code",
   "execution_count": 23,
   "metadata": {},
   "outputs": [
    {
     "name": "stdout",
     "output_type": "stream",
     "text": [
      "1번째 줄을 추가하였습니다.\n",
      "\n",
      "2번째 줄을 추가하였습니다.\n",
      "\n",
      "3번째 줄을 추가하였습니다.\n",
      "\n",
      "4번째 줄을 추가하였습니다.\n",
      "\n",
      "5번째 줄을 추가하였습니다.\n",
      "\n",
      "6번째 줄을 추가하였습니다.\n",
      "\n",
      "7번째 줄을 추가하였습니다.\n",
      "\n",
      "8번째 줄을 추가하였습니다.\n",
      "\n",
      "9번째 줄을 추가하였습니다.\n",
      "\n",
      "10번째 줄을 추가하였습니다.\n",
      "\n"
     ]
    }
   ],
   "source": []
  },
  {
   "cell_type": "code",
   "execution_count": null,
   "metadata": {},
   "outputs": [],
   "source": []
  },
  {
   "cell_type": "code",
   "execution_count": 24,
   "metadata": {},
   "outputs": [
    {
     "name": "stdout",
     "output_type": "stream",
     "text": [
      "파일에 추가완료\n"
     ]
    }
   ],
   "source": []
  },
  {
   "cell_type": "code",
   "execution_count": null,
   "metadata": {},
   "outputs": [],
   "source": []
  },
  {
   "cell_type": "code",
   "execution_count": 26,
   "metadata": {},
   "outputs": [],
   "source": []
  },
  {
   "cell_type": "code",
   "execution_count": 30,
   "metadata": {},
   "outputs": [
    {
     "ename": "UnsupportedOperation",
     "evalue": "not readable",
     "output_type": "error",
     "traceback": [
      "\u001b[1;31m---------------------------------------------------------------------------\u001b[0m",
      "\u001b[1;31mUnsupportedOperation\u001b[0m                      Traceback (most recent call last)",
      "\u001b[1;32m<ipython-input-30-13651527832f>\u001b[0m in \u001b[0;36m<module>\u001b[1;34m\u001b[0m\n\u001b[0;32m      2\u001b[0m \u001b[1;32mwith\u001b[0m \u001b[0mopen\u001b[0m\u001b[1;33m(\u001b[0m\u001b[1;34m'd:/pyFile/test2.txt'\u001b[0m\u001b[1;33m,\u001b[0m\u001b[1;34m'a'\u001b[0m\u001b[1;33m)\u001b[0m \u001b[1;32mas\u001b[0m \u001b[0mf8\u001b[0m\u001b[1;33m:\u001b[0m\u001b[1;33m\u001b[0m\u001b[1;33m\u001b[0m\u001b[0m\n\u001b[0;32m      3\u001b[0m     \u001b[1;32mwhile\u001b[0m \u001b[1;32mTrue\u001b[0m\u001b[1;33m:\u001b[0m\u001b[1;33m\u001b[0m\u001b[1;33m\u001b[0m\u001b[0m\n\u001b[1;32m----> 4\u001b[1;33m         \u001b[0md\u001b[0m \u001b[1;33m=\u001b[0m \u001b[0mf8\u001b[0m\u001b[1;33m.\u001b[0m\u001b[0mreadline\u001b[0m\u001b[1;33m(\u001b[0m\u001b[1;33m)\u001b[0m\u001b[1;33m\u001b[0m\u001b[1;33m\u001b[0m\u001b[0m\n\u001b[0m\u001b[0;32m      5\u001b[0m         \u001b[1;32mif\u001b[0m \u001b[1;32mnot\u001b[0m \u001b[0md\u001b[0m\u001b[1;33m:\u001b[0m\u001b[1;33m\u001b[0m\u001b[1;33m\u001b[0m\u001b[0m\n\u001b[0;32m      6\u001b[0m             \u001b[1;32mbreak\u001b[0m\u001b[1;33m\u001b[0m\u001b[1;33m\u001b[0m\u001b[0m\n",
      "\u001b[1;31mUnsupportedOperation\u001b[0m: not readable"
     ]
    }
   ],
   "source": []
  },
  {
   "cell_type": "code",
   "execution_count": null,
   "metadata": {},
   "outputs": [],
   "source": []
  }
 ],
 "metadata": {
  "kernelspec": {
   "display_name": "Python 3",
   "language": "python",
   "name": "python3"
  },
  "language_info": {
   "codemirror_mode": {
    "name": "ipython",
    "version": 3
   },
   "file_extension": ".py",
   "mimetype": "text/x-python",
   "name": "python",
   "nbconvert_exporter": "python",
   "pygments_lexer": "ipython3",
   "version": "3.8.5"
  }
 },
 "nbformat": 4,
 "nbformat_minor": 4
}
