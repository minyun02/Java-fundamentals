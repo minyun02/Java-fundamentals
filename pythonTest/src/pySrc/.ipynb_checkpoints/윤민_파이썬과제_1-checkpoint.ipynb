{
 "cells": [
  {
   "cell_type": "markdown",
   "metadata": {},
   "source": [
    "### 딕셔너리 만들기"
   ]
  },
  {
   "cell_type": "code",
   "execution_count": 4,
   "metadata": {},
   "outputs": [
    {
     "name": "stdout",
     "output_type": "stream",
     "text": [
      "{'name': '홍길동', 'birth': '951012', 'age': 26}\n"
     ]
    }
   ],
   "source": [
    "dic = {'name':'홍길동', 'birth':'951012', 'age':26}\n",
    "print(dic)"
   ]
  },
  {
   "cell_type": "code",
   "execution_count": 10,
   "metadata": {},
   "outputs": [
    {
     "name": "stdout",
     "output_type": "stream",
     "text": [
      "key---> ['name', 'birth', 'age']\n",
      "value---> ['홍길동', '951012', 26]\n"
     ]
    }
   ],
   "source": [
    "# 1.key 목록과 value 목록을 리스트로 출력.\n",
    "key_list= list(dic.keys())\n",
    "value_list = list(dic.values())\n",
    "print('key--->',key_list)\n",
    "print('value--->',value_list)"
   ]
  },
  {
   "cell_type": "code",
   "execution_count": 11,
   "metadata": {},
   "outputs": [
    {
     "name": "stdout",
     "output_type": "stream",
     "text": [
      "이름은 홍길동이고, 생년월일은 95년 10월 12일이며, 나이는 26세이다\n"
     ]
    }
   ],
   "source": [
    "# 2. 이름은 홍길동이고, 생년월일은 95년 10월 12이며, 나이는 26세이다로 출력\n",
    "birth = dic['birth']\n",
    "print(f\"이름은 {dic['name']}이고, 생년월일은 {birth[:2]}년 {birth[2:4]}월 {birth[4:]}일이며, 나이는 {dic['age']}세이다\")"
   ]
  }
 ],
 "metadata": {
  "kernelspec": {
   "display_name": "Python 3",
   "language": "python",
   "name": "python3"
  },
  "language_info": {
   "codemirror_mode": {
    "name": "ipython",
    "version": 3
   },
   "file_extension": ".py",
   "mimetype": "text/x-python",
   "name": "python",
   "nbconvert_exporter": "python",
   "pygments_lexer": "ipython3",
   "version": "3.8.5"
  }
 },
 "nbformat": 4,
 "nbformat_minor": 4
}
