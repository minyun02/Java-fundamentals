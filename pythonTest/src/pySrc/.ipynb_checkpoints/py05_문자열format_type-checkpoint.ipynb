{
 "cells": [
  {
   "cell_type": "markdown",
   "metadata": {},
   "source": [
    "### 출력형식설정 : format\n",
    "- print(f'출력할 내용' % 변수)\n",
    "\n",
    "- 데이터 형식(%d : 숫자, %s : 문자, %c : 1개의 문자, %f : 실수, %% : %자체를 출력할때)"
   ]
  },
  {
   "cell_type": "code",
   "execution_count": 3,
   "metadata": {},
   "outputs": [
    {
     "name": "stdout",
     "output_type": "stream",
     "text": [
      "내가 가진 사과의 갯수는 3 이다.\n"
     ]
    }
   ],
   "source": [
    "# 숫자데이터를 포맷으로 설정\n",
    "num = 3\n",
    "msg = '내가 가진 사과의 갯수는 %d 이다.' %num\n",
    "print(msg)\n"
   ]
  },
  {
   "cell_type": "code",
   "execution_count": 4,
   "metadata": {},
   "outputs": [
    {
     "name": "stdout",
     "output_type": "stream",
     "text": [
      "나의 이름은 홍gildong입니다\n"
     ]
    }
   ],
   "source": [
    "msg2 = '나의 이름은 %s입니다' % '홍gildong'\n",
    "print(msg2)"
   ]
  },
  {
   "cell_type": "code",
   "execution_count": 7,
   "metadata": {},
   "outputs": [
    {
     "name": "stdout",
     "output_type": "stream",
     "text": [
      "나는 100일 후 아일랜드로 떠난다...\n"
     ]
    }
   ],
   "source": [
    "# 대입할 데이터가 1개 이상일때\n",
    "day = 100\n",
    "country = '아일랜드'\n",
    "msg3 = '나는 %d일 후 %s로 떠난다...' %(day, country)\n",
    "print(msg3)"
   ]
  },
  {
   "cell_type": "code",
   "execution_count": 10,
   "metadata": {},
   "outputs": [
    {
     "name": "stdout",
     "output_type": "stream",
     "text": [
      "나는        100후       아일랜드로 여행을 떠난다..\n"
     ]
    }
   ],
   "source": [
    "msg4 = '나는 %10d후 %10s로 여행을 떠난다..' %(day, country)\n",
    "print(msg4)"
   ]
  },
  {
   "cell_type": "code",
   "execution_count": 11,
   "metadata": {},
   "outputs": [
    {
     "name": "stdout",
     "output_type": "stream",
     "text": [
      "나는 100       후 아일랜드      로 여행간다\n"
     ]
    }
   ],
   "source": [
    "msg5 = '나는 %-10d후 %-10s로 여행간다' %(day, country)\n",
    "print(msg5)"
   ]
  },
  {
   "cell_type": "markdown",
   "metadata": {},
   "source": [
    "# format()함수를 이용한 포맷팅"
   ]
  },
  {
   "cell_type": "code",
   "execution_count": 12,
   "metadata": {},
   "outputs": [],
   "source": [
    "num = 123\n",
    "name = '홍길동'\n",
    "addr = '서울시 마포구 백범로'"
   ]
  },
  {
   "cell_type": "code",
   "execution_count": 13,
   "metadata": {},
   "outputs": [
    {
     "name": "stdout",
     "output_type": "stream",
     "text": [
      "내이름은 홍길동입니다\n"
     ]
    }
   ],
   "source": [
    "result = '내이름은 {0}입니다'.format(name)\n",
    "print(result)"
   ]
  },
  {
   "cell_type": "code",
   "execution_count": 14,
   "metadata": {},
   "outputs": [
    {
     "name": "stdout",
     "output_type": "stream",
     "text": [
      "내이름은 홍길동이고, 주소는 서울시 마포구 백범로이다.\n"
     ]
    }
   ],
   "source": [
    "result2 = '내이름은 {0}이고, 주소는 {1}이다.'.format(name, addr)\n",
    "print(result2)"
   ]
  },
  {
   "cell_type": "code",
   "execution_count": 16,
   "metadata": {},
   "outputs": [
    {
     "name": "stdout",
     "output_type": "stream",
     "text": [
      "내이름은 park이다.\n"
     ]
    }
   ],
   "source": [
    "result3 = \"내이름은 {name}이다.\".format(name='park')\n",
    "print(result3)"
   ]
  },
  {
   "cell_type": "code",
   "execution_count": 18,
   "metadata": {},
   "outputs": [
    {
     "name": "stdout",
     "output_type": "stream",
     "text": [
      "내이름은 홍길동       입니다...\n"
     ]
    }
   ],
   "source": [
    "result4 = \"내이름은 {0:<10}입니다...\".format(name) # 10자리를 확보하여 문자를 왼쪽정렬하라\n",
    "print(result4)"
   ]
  },
  {
   "cell_type": "code",
   "execution_count": 19,
   "metadata": {},
   "outputs": [
    {
     "name": "stdout",
     "output_type": "stream",
     "text": [
      "내 이름은        홍길동입니다..\n"
     ]
    }
   ],
   "source": [
    "result5 = '내 이름은 {0:>10}입니다..'.format(name) # 10자리를 확보하여 문자를 오른쪽으로 정렬하라\n",
    "print(result5)"
   ]
  },
  {
   "cell_type": "code",
   "execution_count": 20,
   "metadata": {},
   "outputs": [
    {
     "name": "stdout",
     "output_type": "stream",
     "text": [
      "내 이름은    홍길동    입니다잉\n"
     ]
    }
   ],
   "source": [
    "result6 = \"내 이름은 {0:^10}입니다잉\".format(name) # 중앙정렬\n",
    "print(result6)"
   ]
  },
  {
   "cell_type": "code",
   "execution_count": 23,
   "metadata": {},
   "outputs": [
    {
     "name": "stdout",
     "output_type": "stream",
     "text": [
      "내 이름은 홍길동!!!!!!!입니다\n",
      "내 이름은 $$$$$$$홍길동입니다\n"
     ]
    }
   ],
   "source": [
    "result7 = \"내 이름은 {0:!<10}입니다\".format(name) # 왼쪽정렬하고 남아있는 자리를 !로 채워라\n",
    "print(result7)\n",
    "result8 = \"내 이름은 {0:$>10}입니다\".format(name)\n",
    "print(result8)"
   ]
  },
  {
   "cell_type": "code",
   "execution_count": 25,
   "metadata": {},
   "outputs": [
    {
     "name": "stdout",
     "output_type": "stream",
     "text": [
      "실수형 데이터 포맷 설정 :    12.5600이다\n"
     ]
    }
   ],
   "source": [
    "f = 12.56\n",
    "data = '실수형 데이터 포맷 설정 : {0:10.4f}이다'.format(f)\n",
    "print(data)"
   ]
  },
  {
   "cell_type": "code",
   "execution_count": 28,
   "metadata": {},
   "outputs": [
    {
     "name": "stdout",
     "output_type": "stream",
     "text": [
      "format에서 값을 {와}로 표시한다\n"
     ]
    }
   ],
   "source": [
    "# {와}를 그대로 출력을 원할 경우\n",
    "data2 = \"format에서 값을 {{와}}로 표시한다\".format()\n",
    "print(data2)"
   ]
  },
  {
   "cell_type": "code",
   "execution_count": 29,
   "metadata": {},
   "outputs": [
    {
     "name": "stdout",
     "output_type": "stream",
     "text": [
      "번호는 123이고, 이름은 홍길동이고, 주소는 서울시 마포구 백범로입니다.\n"
     ]
    }
   ],
   "source": [
    "# f를 이용한 문자열 포맷팅\n",
    "data3 = f'번호는 {num}이고, 이름은 {name}이고, 주소는 {addr}입니다.'\n",
    "print(data3)"
   ]
  },
  {
   "cell_type": "code",
   "execution_count": 31,
   "metadata": {},
   "outputs": [
    {
     "name": "stdout",
     "output_type": "stream",
     "text": [
      "나의 이름은 홍길동입니다...\n"
     ]
    }
   ],
   "source": [
    "print(f'나의 이름은 {name}입니다...')"
   ]
  },
  {
   "cell_type": "code",
   "execution_count": 33,
   "metadata": {},
   "outputs": [
    {
     "name": "stdout",
     "output_type": "stream",
     "text": [
      "나의 이름은 홍길동!!!!!!!입니다...\n"
     ]
    }
   ],
   "source": [
    "print(f'나의 이름은 {name:!<10}입니다...')"
   ]
  },
  {
   "cell_type": "code",
   "execution_count": null,
   "metadata": {},
   "outputs": [],
   "source": [
    "# 딕셔너리 문자열의 포맷팅\n",
    "people = {\"userid\":\"testid\", \"username\":\"홍길동\"}\n"
   ]
  },
  {
   "cell_type": "code",
   "execution_count": null,
   "metadata": {},
   "outputs": [],
   "source": []
  }
 ],
 "metadata": {
  "kernelspec": {
   "display_name": "Python 3",
   "language": "python",
   "name": "python3"
  },
  "language_info": {
   "codemirror_mode": {
    "name": "ipython",
    "version": 3
   },
   "file_extension": ".py",
   "mimetype": "text/x-python",
   "name": "python",
   "nbconvert_exporter": "python",
   "pygments_lexer": "ipython3",
   "version": "3.8.5"
  }
 },
 "nbformat": 4,
 "nbformat_minor": 4
}
