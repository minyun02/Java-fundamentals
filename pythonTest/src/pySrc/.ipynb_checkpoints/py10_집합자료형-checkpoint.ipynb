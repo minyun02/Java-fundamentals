{
 "cells": [
  {
   "cell_type": "markdown",
   "metadata": {},
   "source": [
    "### 집합자료형\n",
    "- 집합에 관련된 자료형으로 처리하기 위해 만든 데이터형이다. set()을 생성할 수 있다.\n",
    "- 중복을 허용하지 않는다.\n",
    "- 입력순서가 없다.\n",
    "- 크기순으로 정렬된다.(asc)"
   ]
  },
  {
   "cell_type": "code",
   "execution_count": 3,
   "metadata": {},
   "outputs": [
    {
     "name": "stdout",
     "output_type": "stream",
     "text": [
      "[12, 58, 32, 74, 2, 12, 48, 12]\n",
      "{32, 2, 74, 12, 48, 58}\n",
      "{32, 65, 3, 54}\n"
     ]
    }
   ],
   "source": [
    "# 리스트 데이터를 셋으로 생성\n",
    "list_data = [12,58,32,74,2,12,48,12]\n",
    "set_data1 = set(list_data)\n",
    "set_data2 = set([54,3,65,32,3,3,3,3,3,3,3])\n",
    "print(list_data)\n",
    "print(set_data1)\n",
    "print(set_data2)"
   ]
  },
  {
   "cell_type": "code",
   "execution_count": 4,
   "metadata": {},
   "outputs": [
    {
     "name": "stdout",
     "output_type": "stream",
     "text": [
      "{'o', ' ', 't', 'P', 'n', 'i', 'h', 'r', 'm', 'g', 'a', 'y'}\n"
     ]
    }
   ],
   "source": [
    "# 문자열을 셋으로 생성 : 데이터를 한글자씩 조각낸다.\n",
    "str1 = 'Python Programing'\n",
    "set_data3 = set(str1)\n",
    "print(set_data3)"
   ]
  },
  {
   "cell_type": "code",
   "execution_count": 5,
   "metadata": {},
   "outputs": [
    {
     "name": "stdout",
     "output_type": "stream",
     "text": [
      "{'5', '7', '4', '8'}\n"
     ]
    }
   ],
   "source": [
    "set_data4 = set('4757547848')\n",
    "print(set_data4)"
   ]
  },
  {
   "cell_type": "markdown",
   "metadata": {},
   "source": [
    "### 교집합, 합집합, 차집합 구하기"
   ]
  },
  {
   "cell_type": "code",
   "execution_count": 6,
   "metadata": {},
   "outputs": [],
   "source": [
    "set_data5 = set([1,2,3,4,5,6])\n",
    "set_data6 = set([4,5,6,7,8,9])"
   ]
  },
  {
   "cell_type": "code",
   "execution_count": 7,
   "metadata": {},
   "outputs": [
    {
     "name": "stdout",
     "output_type": "stream",
     "text": [
      "{4, 5, 6}\n"
     ]
    }
   ],
   "source": [
    "# 교집합 -> & = intersection()\n",
    "set_data7 = set_data5 & set_data6\n",
    "print(set_data7)"
   ]
  },
  {
   "cell_type": "code",
   "execution_count": 10,
   "metadata": {},
   "outputs": [
    {
     "name": "stdout",
     "output_type": "stream",
     "text": [
      "{4, 5, 6}\n"
     ]
    }
   ],
   "source": [
    "set_data10 = set_data5.intersection(set_data6)\n",
    "print(set_data10)"
   ]
  },
  {
   "cell_type": "code",
   "execution_count": 8,
   "metadata": {},
   "outputs": [
    {
     "name": "stdout",
     "output_type": "stream",
     "text": [
      "{1, 2, 3, 4, 5, 6, 7, 8, 9}\n"
     ]
    }
   ],
   "source": [
    "# 합집합 -> | = union()\n",
    "set_data8 = set_data5 | set_data6\n",
    "print(set_data8)"
   ]
  },
  {
   "cell_type": "code",
   "execution_count": 11,
   "metadata": {},
   "outputs": [
    {
     "name": "stdout",
     "output_type": "stream",
     "text": [
      "{1, 2, 3, 4, 5, 6, 7, 8, 9}\n"
     ]
    }
   ],
   "source": [
    "set_data11 = set_data5.union(set_data6)\n",
    "print(set_data11)"
   ]
  },
  {
   "cell_type": "code",
   "execution_count": 9,
   "metadata": {},
   "outputs": [
    {
     "name": "stdout",
     "output_type": "stream",
     "text": [
      "{1, 2, 3}\n"
     ]
    }
   ],
   "source": [
    "# 차집합 set_data5에서 set_data6를 뺀다\n",
    "set_data9 = set_data5 - set_data6\n",
    "print(set_data9)"
   ]
  },
  {
   "cell_type": "code",
   "execution_count": 12,
   "metadata": {},
   "outputs": [
    {
     "name": "stdout",
     "output_type": "stream",
     "text": [
      "{1, 2, 3}\n"
     ]
    }
   ],
   "source": [
    "set_data12 = set_data5.difference(set_data6)\n",
    "print(set_data12)"
   ]
  },
  {
   "cell_type": "code",
   "execution_count": 13,
   "metadata": {},
   "outputs": [
    {
     "name": "stdout",
     "output_type": "stream",
     "text": [
      "{1, 2, 3, 4, 5, 6, 10}\n"
     ]
    }
   ],
   "source": [
    "# 데이터 1개 추가\n",
    "set_data5.add(10)\n",
    "print(set_data5)"
   ]
  },
  {
   "cell_type": "code",
   "execution_count": 14,
   "metadata": {},
   "outputs": [
    {
     "name": "stdout",
     "output_type": "stream",
     "text": [
      "{1, 2, 3, 4, 5, 6, 10, 75, 45, 55}\n"
     ]
    }
   ],
   "source": [
    "# 여러개 값 추가하기\n",
    "set_data5.update([55,45,75])\n",
    "print(set_data5)"
   ]
  },
  {
   "cell_type": "code",
   "execution_count": 15,
   "metadata": {},
   "outputs": [
    {
     "name": "stdout",
     "output_type": "stream",
     "text": [
      "{1, 2, 3, 4, 6, 10, 75, 45, 55}\n"
     ]
    }
   ],
   "source": [
    "# 값지우기\n",
    "set_data5.remove(5)\n",
    "print(set_data5)"
   ]
  },
  {
   "cell_type": "code",
   "execution_count": null,
   "metadata": {},
   "outputs": [],
   "source": []
  },
  {
   "cell_type": "code",
   "execution_count": null,
   "metadata": {},
   "outputs": [],
   "source": []
  },
  {
   "cell_type": "code",
   "execution_count": null,
   "metadata": {},
   "outputs": [],
   "source": []
  },
  {
   "cell_type": "code",
   "execution_count": null,
   "metadata": {},
   "outputs": [],
   "source": []
  }
 ],
 "metadata": {
  "kernelspec": {
   "display_name": "Python 3",
   "language": "python",
   "name": "python3"
  },
  "language_info": {
   "codemirror_mode": {
    "name": "ipython",
    "version": 3
   },
   "file_extension": ".py",
   "mimetype": "text/x-python",
   "name": "python",
   "nbconvert_exporter": "python",
   "pygments_lexer": "ipython3",
   "version": "3.8.5"
  }
 },
 "nbformat": 4,
 "nbformat_minor": 4
}
