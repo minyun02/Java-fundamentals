{
 "cells": [
  {
   "cell_type": "markdown",
   "metadata": {},
   "source": [
    "### while문을 이용하여 작성하라.\n",
    "\t남은 coffee의 수는 10개이다.\n",
    "\tcoffee 1개의 가격은 300원이다.\n",
    "\t금액을 입력받아\n",
    "\t300원을 입력받으면 커피를 제공하고 재고를 출력한다.\n",
    "\t300원 이상을 입력받으면 커피를 제공하고 거스럼돈을 지불한다.\n",
    "\t300원미만을 입력받으면 입력받은 금액을 돌려주고 커피를 제공하지 않는다.\n",
    "\t재고가 부족하면 재고부족 메세지를 출력하고 판매를 중지한다."
   ]
  },
  {
   "cell_type": "code",
   "execution_count": null,
   "metadata": {},
   "outputs": [],
   "source": [
    "coffee = 10\n",
    "while True:\n",
    "    money = int(input(\"커피값을 지불하세요 \"))\n",
    "    if money == 300:\n",
    "        print(\"커피 제공.\")\n",
    "        print(\"커피가 %d개 남았습니다.\" % coffee)\n",
    "        coffee = coffee -1\n",
    "    elif money > 300:\n",
    "        print(\"거스름돈 %d원\" % (money -300))\n",
    "        coffee = coffee -1\n",
    "    else:\n",
    "        print(\"가격이 모자랍니다.\")\n",
    "    if coffee == 0:\n",
    "        print(\"커피 매진. 판매 중지.\")\n",
    "        break\n"
   ]
  },
  {
   "cell_type": "code",
   "execution_count": null,
   "metadata": {},
   "outputs": [],
   "source": []
  },
  {
   "cell_type": "code",
   "execution_count": null,
   "metadata": {},
   "outputs": [],
   "source": []
  },
  {
   "cell_type": "code",
   "execution_count": null,
   "metadata": {},
   "outputs": [],
   "source": []
  },
  {
   "cell_type": "code",
   "execution_count": null,
   "metadata": {},
   "outputs": [],
   "source": []
  },
  {
   "cell_type": "code",
   "execution_count": null,
   "metadata": {},
   "outputs": [],
   "source": []
  },
  {
   "cell_type": "code",
   "execution_count": null,
   "metadata": {},
   "outputs": [],
   "source": []
  },
  {
   "cell_type": "code",
   "execution_count": null,
   "metadata": {},
   "outputs": [],
   "source": []
  }
 ],
 "metadata": {
  "kernelspec": {
   "display_name": "Python 3",
   "language": "python",
   "name": "python3"
  },
  "language_info": {
   "codemirror_mode": {
    "name": "ipython",
    "version": 3
   },
   "file_extension": ".py",
   "mimetype": "text/x-python",
   "name": "python",
   "nbconvert_exporter": "python",
   "pygments_lexer": "ipython3",
   "version": "3.8.5"
  }
 },
 "nbformat": 4,
 "nbformat_minor": 4
}
